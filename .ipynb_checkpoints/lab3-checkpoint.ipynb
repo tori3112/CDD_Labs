{
 "cells": [
  {
   "cell_type": "markdown",
   "id": "6bec3edb",
   "metadata": {},
   "source": [
    "# LAB 3 - UART integration"
   ]
  },
  {
   "cell_type": "code",
   "execution_count": 27,
   "id": "852b284b",
   "metadata": {},
   "outputs": [
    {
     "name": "stdout",
     "output_type": "stream",
     "text": [
      "/dev/ttyUSB0 - USB Serial\n",
      "/dev/ttyUSB1 - TUL - TUL\n"
     ]
    }
   ],
   "source": [
    "import serial.tools.list_ports\n",
    "ports = list(serial.tools.list_ports.comports())\n",
    "for p in ports:\n",
    "    print(p)"
   ]
  },
  {
   "cell_type": "code",
   "execution_count": 34,
   "id": "32b0650f",
   "metadata": {},
   "outputs": [],
   "source": [
    "import serial\n",
    "ser = serial.Serial('/dev/ttyUSB0', 115200, timeout=10)"
   ]
  },
  {
   "cell_type": "markdown",
   "id": "978d8a73",
   "metadata": {},
   "source": [
    "First, create two random operands (A,B) that have OPERAND_WIDTH length."
   ]
  },
  {
   "cell_type": "code",
   "execution_count": 37,
   "id": "4c7e5094",
   "metadata": {},
   "outputs": [
    {
     "name": "stdout",
     "output_type": "stream",
     "text": [
      "A     =  0xf49b32b1e8f656a188cc6fe65e7d5fd7e255f3432f698575c8b16980d65488d72734dec02336216b051a4a3a3b0c1f99e7a147dcacedf0b94cd36f0201ecf370\n",
      "B     =  0xa71146b3557bd8496a3ce8c1e2260de38f5dd12a671581e5d9d5aa02d0bbb875cec9c2d0ac0c8298e62f883ac23c5a1097a01068f7bead242615db8f9c632dce\n",
      "A + B =  0x19bac79653e722eeaf30958a840a36dbb71b3c46d967f075ba2871383a710414cf5fea190cf42a403eb49d274fd4879aa7f415845a4ac9ddd72e94a919e50213e\n"
     ]
    }
   ],
   "source": [
    "import random\n",
    "import time\n",
    "\n",
    "OPERAND_WIDTH = 512\n",
    "\n",
    "N_BYTES = int(OPERAND_WIDTH/8)\n",
    "\n",
    "A = random.randrange(2**(OPERAND_WIDTH-1), 2**OPERAND_WIDTH-1)\n",
    "B = random.randrange(2**(OPERAND_WIDTH-1), 2**OPERAND_WIDTH-1)\n",
    "\n",
    "res = A + B\n",
    "\n",
    "print(\"A     = \", hex(A))\n",
    "print(\"B     = \", hex(B))\n",
    "print(\"A + B = \", hex(res))\n",
    "\n",
    "A_bytes = bytearray.fromhex(format(A, 'x'))\n",
    "B_bytes = bytearray.fromhex(format(B, 'x'))"
   ]
  },
  {
   "cell_type": "markdown",
   "id": "4c72c2b4",
   "metadata": {},
   "source": [
    "Then, send the two operands (A,B) via the serial port, byte by byte. Later, the PYNQ board receives the result of the addition, and transmits it back to the computer."
   ]
  },
  {
   "cell_type": "code",
   "execution_count": 38,
   "id": "4e135a9f",
   "metadata": {},
   "outputs": [
    {
     "name": "stdout",
     "output_type": "stream",
     "text": [
      "Result received correctly!\n",
      "Expected   =  0x19bac79653e722eeaf30958a840a36dbb71b3c46d967f075ba2871383a710414cf5fea190cf42a403eb49d274fd4879aa7f415845a4ac9ddd72e94a919e50213e\n",
      "Received   =  0x19bac79653e722eeaf30958a840a36dbb71b3c46d967f075ba2871383a710414cf5fea190cf42a403eb49d274fd4879aa7f415845a4ac9ddd72e94a919e50213e\n"
     ]
    }
   ],
   "source": [
    "for op_byte in A_bytes:\n",
    "    hex_byte = (\"{0:02x}\".format(op_byte))\n",
    "    ser.write(bytearray.fromhex(hex_byte))\n",
    "    time.sleep(0.001)\n",
    "\n",
    "for op_byte in B_bytes:\n",
    "    hex_byte = (\"{0:02x}\".format(op_byte))\n",
    "    ser.write(bytearray.fromhex(hex_byte))\n",
    "    time.sleep(0.001)\n",
    "\n",
    "res_rcvd = ser.read(N_BYTES+1) \n",
    "\n",
    "res2 = int.from_bytes(res_rcvd, \"big\")\n",
    "\n",
    "if res2==res:\n",
    "    print(\"Result received correctly!\")\n",
    "    print(\"Expected   = \", hex(res))\n",
    "    print(\"Received   = \", hex(res2))\n",
    "else:\n",
    "    print(\"Result INCORRECT!\")\n",
    "    print(\"Expected   = \", hex(res))\n",
    "    print(\"Received   = \", hex(res2))\n",
    "    print(\"Offsert:   = \", hex(res2-res))\n"
   ]
  },
  {
   "cell_type": "code",
   "execution_count": 31,
   "id": "7edb1aaf",
   "metadata": {},
   "outputs": [],
   "source": [
    "ser.close()"
   ]
  },
  {
   "cell_type": "code",
   "execution_count": null,
   "id": "89ff9893",
   "metadata": {},
   "outputs": [],
   "source": []
  }
 ],
 "metadata": {
  "kernelspec": {
   "display_name": "Python 3 (ipykernel)",
   "language": "python",
   "name": "python3"
  },
  "language_info": {
   "codemirror_mode": {
    "name": "ipython",
    "version": 3
   },
   "file_extension": ".py",
   "mimetype": "text/x-python",
   "name": "python",
   "nbconvert_exporter": "python",
   "pygments_lexer": "ipython3",
   "version": "3.10.12"
  }
 },
 "nbformat": 4,
 "nbformat_minor": 5
}
