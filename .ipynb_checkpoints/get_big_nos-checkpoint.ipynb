{
 "cells": [
  {
   "cell_type": "code",
   "execution_count": 2,
   "id": "81f2329e",
   "metadata": {},
   "outputs": [
    {
     "name": "stdout",
     "output_type": "stream",
     "text": [
      "A is  560d89d9e3e6be2ce99d5660c42a8c39ba58c2d50a90b68feb690e9ed28f04d22a7ea7f9d59bd2fea3075d6b0505d745824620139db4400811aab87c7199751f\n",
      "B is  de5bce822f806d6fbcd5495e239d38a4a8cd409b8aaa2dfb591e509bd41a487fb0c5d40401fac5bb60a9213f221f7a13a8589ac3b520bb6a25ac7e03c0546f22\n"
     ]
    }
   ],
   "source": [
    "from secrets import token_bytes\n",
    "\n",
    "def generate_512bit_number():\n",
    "  return token_bytes(64)\n",
    "\n",
    "number1 = generate_512bit_number()\n",
    "number2 = generate_512bit_number()\n",
    "\n",
    "print(\"A : \", number1.hex())\n",
    "print(\"B : \", number2.hex())"
   ]
  }
 ],
 "metadata": {
  "kernelspec": {
   "display_name": "Python 3 (ipykernel)",
   "language": "python",
   "name": "python3"
  },
  "language_info": {
   "codemirror_mode": {
    "name": "ipython",
    "version": 3
   },
   "file_extension": ".py",
   "mimetype": "text/x-python",
   "name": "python",
   "nbconvert_exporter": "python",
   "pygments_lexer": "ipython3",
   "version": "3.10.12"
  }
 },
 "nbformat": 4,
 "nbformat_minor": 5
}
