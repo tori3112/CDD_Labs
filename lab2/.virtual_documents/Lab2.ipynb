


import serial.tools.list_ports

ports = list(serial.tools.list_ports.comports())
for p in ports:
    print(p)





import serial
ser = serial.Serial('ttyUSB0',115200, timeout=10)


print(ser.read(12))


ser.close()





ser.write(b'ABCD EFGHI J')
print(ser.read(12))


import time 
tst_str = 'ABCD EFGHI J'
tst_arr = str.encode(tst_str)

for j in range(len(tst_arr)):
    ser.write(tst_arr[j:j + 1])
    time.sleep(0.001)

print(ser.read(12))
