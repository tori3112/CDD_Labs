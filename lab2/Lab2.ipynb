{
 "cells": [
  {
   "cell_type": "markdown",
   "id": "514ad2dc-5af2-4800-9f74-433c6b857ea7",
   "metadata": {},
   "source": [
    "## Data Exchange Between Laptop and PYNQ-Z2\n",
    "* use use python\n",
    "* _pySerial_ module is necessary to communicate via UART ports"
   ]
  },
  {
   "cell_type": "code",
   "execution_count": 3,
   "id": "9bf60169-2331-4824-b76a-579174b16f4e",
   "metadata": {},
   "outputs": [
    {
     "name": "stdout",
     "output_type": "stream",
     "text": [
      "/dev/ttyUSB0 - USB Serial\n",
      "/dev/ttyUSB1 - TUL - TUL\n"
     ]
    }
   ],
   "source": [
    "import serial.tools.list_ports\n",
    "\n",
    "ports = list(serial.tools.list_ports.comports())\n",
    "for p in ports:\n",
    "    print(p)"
   ]
  },
  {
   "cell_type": "markdown",
   "id": "356a6781-a84f-46ff-8e40-a4d3bdedeae9",
   "metadata": {},
   "source": [
    "* alternativele use _lsusb_ interminal\n",
    "* then open serial port\n",
    "* send input parameter is baudrate"
   ]
  },
  {
   "cell_type": "code",
   "execution_count": 4,
   "id": "7c3af264-9cd8-4fd4-9a62-12ca49d389e7",
   "metadata": {},
   "outputs": [],
   "source": [
    "import serial\n",
    "ser = serial.Serial('/dev/ttyUSB0',115200, timeout=10)"
   ]
  },
  {
   "cell_type": "code",
   "execution_count": 4,
   "id": "63c2048c-4463-4b87-bd95-b6dcd4fbf76b",
   "metadata": {},
   "outputs": [
    {
     "ename": "SerialException",
     "evalue": "device reports readiness to read but returned no data (device disconnected or multiple access on port?)",
     "output_type": "error",
     "traceback": [
      "\u001b[0;31m---------------------------------------------------------------------------\u001b[0m",
      "\u001b[0;31mSerialException\u001b[0m                           Traceback (most recent call last)",
      "\u001b[0;32m/tmp/ipykernel_88350/1133567375.py\u001b[0m in \u001b[0;36m<module>\u001b[0;34m\u001b[0m\n\u001b[0;32m----> 1\u001b[0;31m \u001b[0mprint\u001b[0m\u001b[0;34m(\u001b[0m\u001b[0mser\u001b[0m\u001b[0;34m.\u001b[0m\u001b[0mread\u001b[0m\u001b[0;34m(\u001b[0m\u001b[0;36m12\u001b[0m\u001b[0;34m)\u001b[0m\u001b[0;34m)\u001b[0m\u001b[0;34m\u001b[0m\u001b[0;34m\u001b[0m\u001b[0m\n\u001b[0m",
      "\u001b[0;32m/usr/lib/python3/dist-packages/serial/serialposix.py\u001b[0m in \u001b[0;36mread\u001b[0;34m(self, size)\u001b[0m\n\u001b[1;32m    593\u001b[0m                     \u001b[0;31m# behavior that they are always ready to read immediately\u001b[0m\u001b[0;34m\u001b[0m\u001b[0;34m\u001b[0m\u001b[0m\n\u001b[1;32m    594\u001b[0m                     \u001b[0;31m# but reading returns nothing.\u001b[0m\u001b[0;34m\u001b[0m\u001b[0;34m\u001b[0m\u001b[0m\n\u001b[0;32m--> 595\u001b[0;31m                     raise SerialException(\n\u001b[0m\u001b[1;32m    596\u001b[0m                         \u001b[0;34m'device reports readiness to read but returned no data '\u001b[0m\u001b[0;34m\u001b[0m\u001b[0;34m\u001b[0m\u001b[0m\n\u001b[1;32m    597\u001b[0m                         '(device disconnected or multiple access on port?)')\n",
      "\u001b[0;31mSerialException\u001b[0m: device reports readiness to read but returned no data (device disconnected or multiple access on port?)"
     ]
    }
   ],
   "source": [
    "print(ser.read(12))"
   ]
  },
  {
   "cell_type": "code",
   "execution_count": null,
   "id": "599a46a2-32c3-44b4-ab38-e764c5d1e325",
   "metadata": {},
   "outputs": [],
   "source": [
    "ser.close()"
   ]
  },
  {
   "cell_type": "markdown",
   "id": "818ea06b-65e3-46a0-8a8d-503d516e927d",
   "metadata": {},
   "source": [
    "# echo part of the lab"
   ]
  },
  {
   "cell_type": "code",
   "execution_count": 5,
   "id": "cc77556f-256d-4d58-ba7e-68e9d95100af",
   "metadata": {},
   "outputs": [
    {
     "name": "stdout",
     "output_type": "stream",
     "text": [
      "b'\\x00\\x80\\x00\\x00\\x00\\xffABCD E'\n"
     ]
    }
   ],
   "source": [
    "ser.write(b'ABCD EFGHI J')\n",
    "print(ser.read(12))"
   ]
  },
  {
   "cell_type": "code",
   "execution_count": 6,
   "id": "afeaed08-76ba-4332-bb80-bb84e6983211",
   "metadata": {},
   "outputs": [
    {
     "name": "stdout",
     "output_type": "stream",
     "text": [
      "b'ABCD EFGHI J'\n"
     ]
    }
   ],
   "source": [
    "import time \n",
    "tst_str = 'ABCD EFGHI J'\n",
    "tst_arr = str.encode(tst_str)\n",
    "\n",
    "for j in range(len(tst_arr)):\n",
    "    ser.write(tst_arr[j:j + 1])\n",
    "    time.sleep(0.001)\n",
    "\n",
    "print(ser.read(12))"
   ]
  },
  {
   "cell_type": "code",
   "execution_count": null,
   "id": "3ec1d2a7",
   "metadata": {},
   "outputs": [],
   "source": []
  }
 ],
 "metadata": {
  "kernelspec": {
   "display_name": "Python 3 (ipykernel)",
   "language": "python",
   "name": "python3"
  },
  "language_info": {
   "codemirror_mode": {
    "name": "ipython",
    "version": 3
   },
   "file_extension": ".py",
   "mimetype": "text/x-python",
   "name": "python",
   "nbconvert_exporter": "python",
   "pygments_lexer": "ipython3",
   "version": "3.10.12"
  }
 },
 "nbformat": 4,
 "nbformat_minor": 5
}
