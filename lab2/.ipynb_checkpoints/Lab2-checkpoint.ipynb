{
 "cells": [
  {
   "cell_type": "markdown",
   "id": "514ad2dc-5af2-4800-9f74-433c6b857ea7",
   "metadata": {},
   "source": [
    "## Data Exchange Between Laptop and PYNQ-Z2\n",
    "* use use python\n",
    "* _pySerial_ module is necessary to communicate via UART ports"
   ]
  },
  {
   "cell_type": "code",
   "execution_count": 3,
   "id": "9bf60169-2331-4824-b76a-579174b16f4e",
   "metadata": {},
   "outputs": [],
   "source": [
    "import serial.tools.list_ports\n",
    "ports = list(serial.tools.list_ports.comports())\n",
    "for p in ports:\n",
    "    print(p)"
   ]
  },
  {
   "cell_type": "markdown",
   "id": "356a6781-a84f-46ff-8e40-a4d3bdedeae9",
   "metadata": {},
   "source": [
    "* alternativele use _lsusb_ interminal\n",
    "* then open serial port\n",
    "* send input parameter is baudrate"
   ]
  },
  {
   "cell_type": "code",
   "execution_count": null,
   "id": "7c3af264-9cd8-4fd4-9a62-12ca49d389e7",
   "metadata": {},
   "outputs": [],
   "source": [
    "import serial\n",
    "ser = serial.Serial('ttyUSB2',115200, timeout=10)"
   ]
  },
  {
   "cell_type": "code",
   "execution_count": null,
   "id": "63c2048c-4463-4b87-bd95-b6dcd4fbf76b",
   "metadata": {},
   "outputs": [],
   "source": [
    "print(ser.read(12))"
   ]
  },
  {
   "cell_type": "code",
   "execution_count": null,
   "id": "599a46a2-32c3-44b4-ab38-e764c5d1e325",
   "metadata": {},
   "outputs": [],
   "source": [
    "ser.close()"
   ]
  },
  {
   "cell_type": "markdown",
   "id": "818ea06b-65e3-46a0-8a8d-503d516e927d",
   "metadata": {},
   "source": [
    "# echo part of the lab"
   ]
  },
  {
   "cell_type": "code",
   "execution_count": null,
   "id": "cc77556f-256d-4d58-ba7e-68e9d95100af",
   "metadata": {},
   "outputs": [],
   "source": [
    "ser.write(b'ABCD EFGHI J')\n",
    "print(ser.read(12))"
   ]
  },
  {
   "cell_type": "code",
   "execution_count": null,
   "id": "afeaed08-76ba-4332-bb80-bb84e6983211",
   "metadata": {},
   "outputs": [],
   "source": [
    "import time \n",
    "tst_str = 'ABCD EFGHI J'\n",
    "tst_arr = str.encode(tst_str)\n",
    "\n",
    "for j in range(len(tst_arr)):\n",
    "    ser.write(tst_arr[j:j + 1])\n",
    "    time.sleep(0.001)\n",
    "\n",
    "print(ser.read(12))"
   ]
  }
 ],
 "metadata": {
  "kernelspec": {
   "display_name": "Python 3 (ipykernel)",
   "language": "python",
   "name": "python3"
  },
  "language_info": {
   "codemirror_mode": {
    "name": "ipython",
    "version": 3
   },
   "file_extension": ".py",
   "mimetype": "text/x-python",
   "name": "python",
   "nbconvert_exporter": "python",
   "pygments_lexer": "ipython3",
   "version": "3.11.7"
  }
 },
 "nbformat": 4,
 "nbformat_minor": 5
}
