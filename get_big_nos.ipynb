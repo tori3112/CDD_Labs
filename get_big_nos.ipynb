{
 "cells": [
  {
   "cell_type": "code",
   "execution_count": 12,
   "id": "101a7896",
   "metadata": {},
   "outputs": [
    {
     "name": "stdout",
     "output_type": "stream",
     "text": [
      "A     =  0x8e2a9e1b\n",
      "B     =  0xbadc8f9c\n"
     ]
    }
   ],
   "source": [
    "import random\n",
    "import time\n",
    "\n",
    "OPERAND_WIDTH = 32\n",
    "\n",
    "N_BYTES = int(OPERAND_WIDTH/8)\n",
    "\n",
    "A = random.randrange(2**(OPERAND_WIDTH-1), 2**OPERAND_WIDTH-1)\n",
    "B = random.randrange(2**(OPERAND_WIDTH-1), 2**OPERAND_WIDTH-1)\n",
    "\n",
    "print(\"A     = \", hex(A))\n",
    "print(\"B     = \", hex(B))"
   ]
  }
 ],
 "metadata": {
  "kernelspec": {
   "display_name": "Python 3 (ipykernel)",
   "language": "python",
   "name": "python3"
  },
  "language_info": {
   "codemirror_mode": {
    "name": "ipython",
    "version": 3
   },
   "file_extension": ".py",
   "mimetype": "text/x-python",
   "name": "python",
   "nbconvert_exporter": "python",
   "pygments_lexer": "ipython3",
   "version": "3.10.12"
  }
 },
 "nbformat": 4,
 "nbformat_minor": 5
}
