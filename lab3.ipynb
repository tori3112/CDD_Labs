{
 "cells": [
  {
   "cell_type": "markdown",
   "id": "6bec3edb",
   "metadata": {},
   "source": [
    "# LAB 3 - UART integration"
   ]
  },
  {
   "cell_type": "code",
   "execution_count": 142,
   "id": "852b284b",
   "metadata": {},
   "outputs": [
    {
     "name": "stdout",
     "output_type": "stream",
     "text": [
      "/dev/ttyUSB1 - USB Serial\n",
      "/dev/ttyUSB3 - TUL - TUL\n"
     ]
    }
   ],
   "source": [
    "import serial.tools.list_ports\n",
    "ports = list(serial.tools.list_ports.comports())\n",
    "for p in ports:\n",
    "    print(p)"
   ]
  },
  {
   "cell_type": "code",
   "execution_count": 143,
   "id": "32b0650f",
   "metadata": {},
   "outputs": [],
   "source": [
    "import serial\n",
    "ser = serial.Serial('/dev/ttyUSB3', 115200, timeout=10)"
   ]
  },
  {
   "cell_type": "markdown",
   "id": "978d8a73",
   "metadata": {},
   "source": [
    "First, create two random operands (A,B) that have OPERAND_WIDTH length."
   ]
  },
  {
   "cell_type": "code",
   "execution_count": 144,
   "id": "4c7e5094",
   "metadata": {},
   "outputs": [
    {
     "name": "stdout",
     "output_type": "stream",
     "text": [
      "A     =  0xa547004bd21ac80b2df2b4eb92b7ca982e134fbcb963422104aadee33f6567a7787e49146701038e0adbc232bb2d3f7204a8721bd451ccc8d5d28b1b9075c690\n",
      "B     =  0x871b340429bbc1f60b85ae16ee1d02fa571a012aafa44edfde446ae80b9e0e3c267cd2fe69a0ad6a10a6fb3aafb363c2570ab0db595410d5979d29d0a84bb618\n",
      "A + B =  0x12c62344ffbd68a013978630280d4cd92852d50e769079100e2ef49cb4b0375e39efb1c12d0a1b0f81b82bd6d6ae0a3345bb322f72da5dd9e6d6fb4ec38c17ca8\n",
      "A - B =  0x1e2bcc47a85f0615226d06d4a49ac79dd6f94e9209bef341266673fb33c7596b52017615fd605623fa34c6f80b79dbafad9dc1407afdbbf33e35614ae82a1078\n"
     ]
    }
   ],
   "source": [
    "import random\n",
    "import time\n",
    "\n",
    "OPERAND_WIDTH = 512\n",
    "\n",
    "N_BYTES = int(OPERAND_WIDTH/8)\n",
    "\n",
    "A = random.randrange(2**(OPERAND_WIDTH-1), 2**OPERAND_WIDTH-1)\n",
    "B = random.randrange(2**(OPERAND_WIDTH-1), 2**OPERAND_WIDTH-1)\n",
    "\n",
    "if A < B:\n",
    "    A, B = B, A\n",
    "\n",
    "resAdd = A + B\n",
    "resSub = A - B\n",
    "\n",
    "print(\"A     = \", hex(A))\n",
    "print(\"B     = \", hex(B))\n",
    "print(\"A + B = \", hex(resAdd))\n",
    "print(\"A - B = \", hex(resSub))\n",
    "\n",
    "A_bytes = bytearray.fromhex(format(A, 'x'))\n",
    "B_bytes = bytearray.fromhex(format(B, 'x'))"
   ]
  },
  {
   "cell_type": "markdown",
   "id": "4c72c2b4",
   "metadata": {},
   "source": [
    "Then, send the two operands (A,B) via the serial port, byte by byte. Later, the PYNQ board receives the result of the addition, and transmits it back to the computer."
   ]
  },
  {
   "cell_type": "code",
   "execution_count": null,
   "id": "4e135a9f",
   "metadata": {},
   "outputs": [],
   "source": [
    "for op_byte in A_bytes:\n",
    "    hex_byte = (\"{0:02x}\".format(op_byte))\n",
    "    ser.write(bytearray.fromhex(hex_byte))\n",
    "    time.sleep(0.001)\n",
    "\n",
    "for op_byte in B_bytes:\n",
    "    hex_byte = (\"{0:02x}\".format(op_byte))\n",
    "    ser.write(bytearray.fromhex(hex_byte))\n",
    "    time.sleep(0.001)\n",
    "    \n",
    "    \n",
    "op = 0x00\n",
    "ser.write(bytes([op]))\n",
    "time.sleep(0.001)\n",
    "\n",
    "res_rcvd = ser.read(N_BYTES+1) \n",
    "\n",
    "res2 = int.from_bytes(res_rcvd, \"big\")\n",
    "\n",
    "print(\"Operation: \",hex(op))\n",
    "\n",
    "if res2==resAdd:\n",
    "    print(\"Result received correctly!\")\n",
    "    print(\"Expected   = \", hex(resAdd))\n",
    "    print(\"Received   = \", hex(res2))\n",
    "else:\n",
    "    print(\"Result INCORRECT!\")\n",
    "    print(\"Expected   = \", hex(resAdd))\n",
    "    print(\"Received   = \", hex(res2))\n",
    "    print(\"Offset:   = \", hex(res2-resAdd))\n",
    "\n"
   ]
  },
  {
   "cell_type": "code",
   "execution_count": 141,
   "id": "7edb1aaf",
   "metadata": {},
   "outputs": [],
   "source": [
    "ser.close()"
   ]
  },
  {
   "cell_type": "code",
   "execution_count": null,
   "id": "89ff9893",
   "metadata": {},
   "outputs": [],
   "source": []
  }
 ],
 "metadata": {
  "kernelspec": {
   "display_name": "Python 3 (ipykernel)",
   "language": "python",
   "name": "python3"
  },
  "language_info": {
   "codemirror_mode": {
    "name": "ipython",
    "version": 3
   },
   "file_extension": ".py",
   "mimetype": "text/x-python",
   "name": "python",
   "nbconvert_exporter": "python",
   "pygments_lexer": "ipython3",
   "version": "3.10.12"
  }
 },
 "nbformat": 4,
 "nbformat_minor": 5
}
