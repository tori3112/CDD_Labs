{
 "cells": [
  {
   "cell_type": "markdown",
   "id": "6bec3edb",
   "metadata": {},
   "source": [
    "# LAB 3 - UART integration"
   ]
  },
  {
   "cell_type": "code",
   "execution_count": 27,
   "id": "852b284b",
   "metadata": {},
   "outputs": [
    {
     "name": "stdout",
     "output_type": "stream",
     "text": [
      "/dev/ttyUSB0 - USB Serial\n",
      "/dev/ttyUSB1 - TUL - TUL\n"
     ]
    }
   ],
   "source": [
    "import serial.tools.list_ports\n",
    "ports = list(serial.tools.list_ports.comports())\n",
    "for p in ports:\n",
    "    print(p)"
   ]
  },
  {
   "cell_type": "code",
   "execution_count": 34,
   "id": "32b0650f",
   "metadata": {},
   "outputs": [],
   "source": [
    "import serial\n",
    "ser = serial.Serial('/dev/ttyUSB0', 115200, timeout=10)"
   ]
  },
  {
   "cell_type": "markdown",
   "id": "978d8a73",
   "metadata": {},
   "source": [
    "First, create two random operands (A,B) that have OPERAND_WIDTH length."
   ]
  },
  {
   "cell_type": "code",
   "execution_count": 1,
   "id": "4c7e5094",
   "metadata": {},
   "outputs": [
    {
     "name": "stdout",
     "output_type": "stream",
     "text": [
      "A     =  0xf3dde4d25f1a5a7151c2a0abf30c02ae17e2f3745699ee09f670b5f3253ddd219cec739307d903dfdd67584adfe92a1a6128067abf97d5abf66756eb6371a0ee\n",
      "B     =  0xc1dd392350802a1f50f8b40cce3b50dd257e870fa0d8c111ebd391d368db703a2bc5fca830fcdc573f5e13f843738ec1d961cbc7496f0f762d2fe6d310a1ba95\n",
      "A + B =  0x1b5bb1df5af9a8490a2bb54b8c147538b3d617a83f772af1be24447c68e194d5bc8b2703b38d5e0371cc56c43235cb8dc3a89d2420906e52223973dbe74135b83\n"
     ]
    }
   ],
   "source": [
    "import random\n",
    "import time\n",
    "\n",
    "OPERAND_WIDTH = 512\n",
    "\n",
    "N_BYTES = int(OPERAND_WIDTH/8)\n",
    "\n",
    "A = random.randrange(2**(OPERAND_WIDTH-1), 2**OPERAND_WIDTH-1)\n",
    "B = random.randrange(2**(OPERAND_WIDTH-1), 2**OPERAND_WIDTH-1)\n",
    "\n",
    "if A < B:\n",
    "    A, B = B, A\n",
    "\n",
    "res = A + B\n",
    "\n",
    "print(\"A     = \", hex(A))\n",
    "print(\"B     = \", hex(B))\n",
    "print(\"A + B = \", hex(res))\n",
    "\n",
    "A_bytes = bytearray.fromhex(format(A, 'x'))\n",
    "B_bytes = bytearray.fromhex(format(B, 'x'))"
   ]
  },
  {
   "cell_type": "markdown",
   "id": "4c72c2b4",
   "metadata": {},
   "source": [
    "Then, send the two operands (A,B) via the serial port, byte by byte. Later, the PYNQ board receives the result of the addition, and transmits it back to the computer."
   ]
  },
  {
   "cell_type": "code",
   "execution_count": 38,
   "id": "4e135a9f",
   "metadata": {},
   "outputs": [
    {
     "name": "stdout",
     "output_type": "stream",
     "text": [
      "Result received correctly!\n",
      "Expected   =  0x19bac79653e722eeaf30958a840a36dbb71b3c46d967f075ba2871383a710414cf5fea190cf42a403eb49d274fd4879aa7f415845a4ac9ddd72e94a919e50213e\n",
      "Received   =  0x19bac79653e722eeaf30958a840a36dbb71b3c46d967f075ba2871383a710414cf5fea190cf42a403eb49d274fd4879aa7f415845a4ac9ddd72e94a919e50213e\n"
     ]
    }
   ],
   "source": [
    "for op_byte in A_bytes:\n",
    "    hex_byte = (\"{0:02x}\".format(op_byte))\n",
    "    ser.write(bytearray.fromhex(hex_byte))\n",
    "    time.sleep(0.001)\n",
    "\n",
    "for op_byte in B_bytes:\n",
    "    hex_byte = (\"{0:02x}\".format(op_byte))\n",
    "    ser.write(bytearray.fromhex(hex_byte))\n",
    "    time.sleep(0.001)\n",
    "\n",
    "res_rcvd = ser.read(N_BYTES+1) \n",
    "\n",
    "res2 = int.from_bytes(res_rcvd, \"big\")\n",
    "\n",
    "if res2==res:\n",
    "    print(\"Result received correctly!\")\n",
    "    print(\"Expected   = \", hex(res))\n",
    "    print(\"Received   = \", hex(res2))\n",
    "else:\n",
    "    print(\"Result INCORRECT!\")\n",
    "    print(\"Expected   = \", hex(res))\n",
    "    print(\"Received   = \", hex(res2))\n",
    "    print(\"Offsert:   = \", hex(res2-res))\n"
   ]
  },
  {
   "cell_type": "code",
   "execution_count": 31,
   "id": "7edb1aaf",
   "metadata": {},
   "outputs": [],
   "source": [
    "ser.close()"
   ]
  },
  {
   "cell_type": "code",
   "execution_count": null,
   "id": "89ff9893",
   "metadata": {},
   "outputs": [],
   "source": []
  }
 ],
 "metadata": {
  "kernelspec": {
   "display_name": "Python 3 (ipykernel)",
   "language": "python",
   "name": "python3"
  },
  "language_info": {
   "codemirror_mode": {
    "name": "ipython",
    "version": 3
   },
   "file_extension": ".py",
   "mimetype": "text/x-python",
   "name": "python",
   "nbconvert_exporter": "python",
   "pygments_lexer": "ipython3",
   "version": "3.10.12"
  }
 },
 "nbformat": 4,
 "nbformat_minor": 5
}
